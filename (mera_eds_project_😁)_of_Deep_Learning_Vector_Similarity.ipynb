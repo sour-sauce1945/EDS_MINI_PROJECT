{
  "nbformat": 4,
  "nbformat_minor": 0,
  "metadata": {
    "colab": {
      "provenance": [],
      "toc_visible": true
    },
    "kernelspec": {
      "name": "python3",
      "display_name": "Python 3"
    },
    "language_info": {
      "name": "python"
    }
  },
  "cells": [
    {
      "cell_type": "markdown",
      "metadata": {
        "id": "j-3d7uwzjJ4O"
      },
      "source": [
        "# Embedding Images"
      ]
    },
    {
      "cell_type": "code",
      "metadata": {
        "id": "1QAsifr8PoqR"
      },
      "source": [
        "import tensorflow as tf\n",
        "import tensorflow_hub as hub\n",
        "from PIL import Image\n",
        "import numpy as np"
      ],
      "execution_count": null,
      "outputs": []
    },
    {
      "cell_type": "code",
      "metadata": {
        "id": "RTmI4n3mLZMs"
      },
      "source": [
        "model_url = \"https://tfhub.dev/tensorflow/efficientnet/lite0/feature-vector/2\"\n",
        "\n",
        "IMAGE_SHAPE = (224, 224)\n",
        "\n",
        "layer = hub.KerasLayer(model_url)\n",
        "model = tf.keras.Sequential([layer])"
      ],
      "execution_count": null,
      "outputs": []
    },
    {
      "cell_type": "code",
      "metadata": {
        "id": "4rJJf1MeNT3w"
      },
      "source": [
        "def extract(file):\n",
        "  file = Image.open(file).convert('L').resize(IMAGE_SHAPE)\n",
        "  #display(file)\n",
        "\n",
        "  file = np.stack((file,)*3, axis=-1)\n",
        "\n",
        "  file = np.array(file)/255.0\n",
        "\n",
        "  embedding = model.predict(file[np.newaxis, ...])\n",
        "  #print(embedding)\n",
        "  vgg16_feature_np = np.array(embedding)\n",
        "  flattended_feature = vgg16_feature_np.flatten()\n",
        "\n",
        "  #print(len(flattended_feature))\n",
        "  #print(flattended_feature)\n",
        "  #print('-----------')\n",
        "  return flattended_feature"
      ],
      "execution_count": null,
      "outputs": []
    },
    {
      "cell_type": "code",
      "metadata": {
        "id": "d4Thl2aDPsrl",
        "outputId": "8f722a2b-ab37-4327-9000-9a22dff00d27",
        "colab": {
          "base_uri": "https://localhost:8080/",
          "height": 345
        }
      },
      "source": [
        "cat1 = extract('./cat1.png')\n",
        "cat2 = extract('./cat2.jpg')\n",
        "rocket = extract('./rocket.jpg')"
      ],
      "execution_count": null,
      "outputs": [
        {
          "output_type": "error",
          "ename": "FileNotFoundError",
          "evalue": "ignored",
          "traceback": [
            "\u001b[0;31m---------------------------------------------------------------------------\u001b[0m",
            "\u001b[0;31mFileNotFoundError\u001b[0m                         Traceback (most recent call last)",
            "\u001b[0;32m<ipython-input-4-0ee4a63e0316>\u001b[0m in \u001b[0;36m<cell line: 1>\u001b[0;34m()\u001b[0m\n\u001b[0;32m----> 1\u001b[0;31m \u001b[0mcat1\u001b[0m \u001b[0;34m=\u001b[0m \u001b[0mextract\u001b[0m\u001b[0;34m(\u001b[0m\u001b[0;34m'./cat1.png'\u001b[0m\u001b[0;34m)\u001b[0m\u001b[0;34m\u001b[0m\u001b[0;34m\u001b[0m\u001b[0m\n\u001b[0m\u001b[1;32m      2\u001b[0m \u001b[0mcat2\u001b[0m \u001b[0;34m=\u001b[0m \u001b[0mextract\u001b[0m\u001b[0;34m(\u001b[0m\u001b[0;34m'./cat2.jpg'\u001b[0m\u001b[0;34m)\u001b[0m\u001b[0;34m\u001b[0m\u001b[0;34m\u001b[0m\u001b[0m\n\u001b[1;32m      3\u001b[0m \u001b[0mrocket\u001b[0m \u001b[0;34m=\u001b[0m \u001b[0mextract\u001b[0m\u001b[0;34m(\u001b[0m\u001b[0;34m'./rocket.jpg'\u001b[0m\u001b[0;34m)\u001b[0m\u001b[0;34m\u001b[0m\u001b[0;34m\u001b[0m\u001b[0m\n",
            "\u001b[0;32m<ipython-input-3-28388ec34079>\u001b[0m in \u001b[0;36mextract\u001b[0;34m(file)\u001b[0m\n\u001b[1;32m      1\u001b[0m \u001b[0;32mdef\u001b[0m \u001b[0mextract\u001b[0m\u001b[0;34m(\u001b[0m\u001b[0mfile\u001b[0m\u001b[0;34m)\u001b[0m\u001b[0;34m:\u001b[0m\u001b[0;34m\u001b[0m\u001b[0;34m\u001b[0m\u001b[0m\n\u001b[0;32m----> 2\u001b[0;31m   \u001b[0mfile\u001b[0m \u001b[0;34m=\u001b[0m \u001b[0mImage\u001b[0m\u001b[0;34m.\u001b[0m\u001b[0mopen\u001b[0m\u001b[0;34m(\u001b[0m\u001b[0mfile\u001b[0m\u001b[0;34m)\u001b[0m\u001b[0;34m.\u001b[0m\u001b[0mconvert\u001b[0m\u001b[0;34m(\u001b[0m\u001b[0;34m'L'\u001b[0m\u001b[0;34m)\u001b[0m\u001b[0;34m.\u001b[0m\u001b[0mresize\u001b[0m\u001b[0;34m(\u001b[0m\u001b[0mIMAGE_SHAPE\u001b[0m\u001b[0;34m)\u001b[0m\u001b[0;34m\u001b[0m\u001b[0;34m\u001b[0m\u001b[0m\n\u001b[0m\u001b[1;32m      3\u001b[0m   \u001b[0;31m#display(file)\u001b[0m\u001b[0;34m\u001b[0m\u001b[0;34m\u001b[0m\u001b[0m\n\u001b[1;32m      4\u001b[0m \u001b[0;34m\u001b[0m\u001b[0m\n\u001b[1;32m      5\u001b[0m   \u001b[0mfile\u001b[0m \u001b[0;34m=\u001b[0m \u001b[0mnp\u001b[0m\u001b[0;34m.\u001b[0m\u001b[0mstack\u001b[0m\u001b[0;34m(\u001b[0m\u001b[0;34m(\u001b[0m\u001b[0mfile\u001b[0m\u001b[0;34m,\u001b[0m\u001b[0;34m)\u001b[0m\u001b[0;34m*\u001b[0m\u001b[0;36m3\u001b[0m\u001b[0;34m,\u001b[0m \u001b[0maxis\u001b[0m\u001b[0;34m=\u001b[0m\u001b[0;34m-\u001b[0m\u001b[0;36m1\u001b[0m\u001b[0;34m)\u001b[0m\u001b[0;34m\u001b[0m\u001b[0;34m\u001b[0m\u001b[0m\n",
            "\u001b[0;32m/usr/local/lib/python3.10/dist-packages/PIL/Image.py\u001b[0m in \u001b[0;36mopen\u001b[0;34m(fp, mode, formats)\u001b[0m\n\u001b[1;32m   2973\u001b[0m \u001b[0;34m\u001b[0m\u001b[0m\n\u001b[1;32m   2974\u001b[0m     \u001b[0;32mif\u001b[0m \u001b[0mfilename\u001b[0m\u001b[0;34m:\u001b[0m\u001b[0;34m\u001b[0m\u001b[0;34m\u001b[0m\u001b[0m\n\u001b[0;32m-> 2975\u001b[0;31m         \u001b[0mfp\u001b[0m \u001b[0;34m=\u001b[0m \u001b[0mbuiltins\u001b[0m\u001b[0;34m.\u001b[0m\u001b[0mopen\u001b[0m\u001b[0;34m(\u001b[0m\u001b[0mfilename\u001b[0m\u001b[0;34m,\u001b[0m \u001b[0;34m\"rb\"\u001b[0m\u001b[0;34m)\u001b[0m\u001b[0;34m\u001b[0m\u001b[0;34m\u001b[0m\u001b[0m\n\u001b[0m\u001b[1;32m   2976\u001b[0m         \u001b[0mexclusive_fp\u001b[0m \u001b[0;34m=\u001b[0m \u001b[0;32mTrue\u001b[0m\u001b[0;34m\u001b[0m\u001b[0;34m\u001b[0m\u001b[0m\n\u001b[1;32m   2977\u001b[0m \u001b[0;34m\u001b[0m\u001b[0m\n",
            "\u001b[0;31mFileNotFoundError\u001b[0m: [Errno 2] No such file or directory: './cat1.png'"
          ]
        }
      ]
    },
    {
      "cell_type": "code",
      "source": [],
      "metadata": {
        "id": "QYS0GuQXjzQ6"
      },
      "execution_count": null,
      "outputs": []
    },
    {
      "cell_type": "markdown",
      "metadata": {
        "id": "1DkebP4bjMaF"
      },
      "source": [
        "# Distances Images"
      ]
    },
    {
      "cell_type": "code",
      "metadata": {
        "id": "PWAKffjBVz6J"
      },
      "source": [
        "from scipy.spatial import distance"
      ],
      "execution_count": null,
      "outputs": []
    },
    {
      "cell_type": "code",
      "metadata": {
        "id": "ZY1_OkMjjIWD"
      },
      "source": [
        "metric = 'cosine'"
      ],
      "execution_count": null,
      "outputs": []
    },
    {
      "cell_type": "code",
      "metadata": {
        "id": "vfUBzmFOkVFu"
      },
      "source": [
        "dc = distance.cdist([cat1], [cat1], metric)[0]\n",
        "print(dc)\n",
        "print(\"the distance between cat1 and the cat1 is {}\".format(dc))"
      ],
      "execution_count": null,
      "outputs": []
    },
    {
      "cell_type": "code",
      "metadata": {
        "id": "JwsFe0tzkMA_"
      },
      "source": [
        "dc = distance.cdist([cat1], [cat2], metric)[0]\n",
        "print(dc)\n",
        "print(\"the distance between cat1 and the cat2 is {}\".format(dc))"
      ],
      "execution_count": null,
      "outputs": []
    },
    {
      "cell_type": "code",
      "metadata": {
        "id": "AfK4FBeEkOvz"
      },
      "source": [
        "dc = distance.cdist([cat1], [rocket], metric)[0]\n",
        "print(dc)\n",
        "print(\"the distance between cat1 and the rocket is {}\".format(dc))"
      ],
      "execution_count": null,
      "outputs": []
    },
    {
      "cell_type": "code",
      "metadata": {
        "id": "9A2EpWI0kRCL"
      },
      "source": [
        "dc = distance.cdist([cat2], [rocket], metric)[0]\n",
        "print(dc)\n",
        "print(\"the distance cat2 original and the rocket is {}\".format(dc))"
      ],
      "execution_count": null,
      "outputs": []
    },
    {
      "cell_type": "code",
      "metadata": {
        "id": "9biyCatQkwVk"
      },
      "source": [],
      "execution_count": null,
      "outputs": []
    },
    {
      "cell_type": "markdown",
      "source": [
        "# Embedding Text"
      ],
      "metadata": {
        "id": "QUCUPzj7jz_6"
      }
    },
    {
      "cell_type": "code",
      "source": [
        "!pip install sentence-transformers"
      ],
      "metadata": {
        "id": "CTRF3BaLkXdO"
      },
      "execution_count": null,
      "outputs": []
    },
    {
      "cell_type": "code",
      "source": [
        "# https://huggingface.co/blog/sentence-transformers-in-the-hub\n",
        "from sentence_transformers import SentenceTransformer\n",
        "model = SentenceTransformer('sentence-t5-base')"
      ],
      "metadata": {
        "id": "xLdFXnLSlVHZ"
      },
      "execution_count": null,
      "outputs": []
    },
    {
      "cell_type": "code",
      "source": [
        "sentence = ['DoiT is a great company to work for']\n",
        "embedding = model.encode(sentence)\n",
        "print(len(embedding[0]))\n",
        "print(embedding[0])"
      ],
      "metadata": {
        "id": "ntrTODvRlZL8"
      },
      "execution_count": null,
      "outputs": []
    },
    {
      "cell_type": "code",
      "source": [
        "sentences = ['I spent the day at the medical facility.', #0\n",
        "            'That a cultured medical genius found her inspiring was beyond flattering.',\n",
        "            'She drew nearer, eyes sweeping over the medical equipment in the room.',\n",
        "            'I did not ask the American Medical Association their opinion of this arrangement.',\n",
        "            'I think the cat wants dessert!', #4\n",
        "            'Im in no mood to watch a cat fight tonight.', #5\n",
        "            'The cat would like to eat the mouse.', #6\n",
        "            'A large grey cat was asleep on a rocking chair.', # 7\n",
        "            'The pilot was able to land the airplane'] #8"
      ],
      "metadata": {
        "id": "UPaDMEjOsyIs"
      },
      "execution_count": null,
      "outputs": []
    },
    {
      "cell_type": "code",
      "source": [
        "with open(\"data.json\", \"w\") as f:\n",
        "    embedding = model.encode(sentences) # do smaller batches if you do it on large data\n",
        "    for i in range(len(sentences)):\n",
        "        f.write('{\"id\":\"' + str(i) + '\",')\n",
        "        f.write('\"embedding\":[' + \",\".join(str(x) for x in embedding[i]) + \"]}\")\n",
        "        f.write(\"\\n\")"
      ],
      "metadata": {
        "id": "vC-kyREppGCA"
      },
      "execution_count": null,
      "outputs": []
    },
    {
      "cell_type": "code",
      "source": [],
      "metadata": {
        "id": "sAr1zyzosnTm"
      },
      "execution_count": null,
      "outputs": []
    },
    {
      "cell_type": "markdown",
      "source": [
        "# Google Vertex AI Matching Engine\n",
        "\n",
        "* February 8th: Updated the code to use the latest version of the SDK and not the beta version anymore. This simplified things a lot as we don't need to work with protobufs anymore."
      ],
      "metadata": {
        "id": "bM5Mfc4aucgw"
      }
    },
    {
      "cell_type": "code",
      "source": [
        "from google.colab import auth\n",
        "auth.authenticate_user()"
      ],
      "metadata": {
        "id": "0ZSaFr94vXyY"
      },
      "execution_count": null,
      "outputs": []
    },
    {
      "cell_type": "code",
      "source": [
        "!gcloud config set project \"sascha-playground-doit\""
      ],
      "metadata": {
        "id": "FEV4WNJMO42J",
        "colab": {
          "base_uri": "https://localhost:8080/"
        },
        "outputId": "0282beaa-9605-463c-d928-04f90594365f"
      },
      "execution_count": null,
      "outputs": [
        {
          "output_type": "stream",
          "name": "stdout",
          "text": [
            "Updated property [core/project].\n"
          ]
        }
      ]
    },
    {
      "cell_type": "code",
      "source": [
        "!pip install google-cloud-aiplatform==1.21.0"
      ],
      "metadata": {
        "id": "AEHBPjyXud64"
      },
      "execution_count": null,
      "outputs": []
    },
    {
      "cell_type": "code",
      "source": [
        "from google.cloud import aiplatform\n",
        "from google.protobuf import struct_pb2\n",
        "import time"
      ],
      "metadata": {
        "id": "JjOZ_mIDxPRf"
      },
      "execution_count": null,
      "outputs": []
    },
    {
      "cell_type": "code",
      "source": [
        "aiplatform.init(project=\"sascha-playground-doit\", location=\"us-central1\")"
      ],
      "metadata": {
        "id": "3lkn94-1G-vX"
      },
      "execution_count": null,
      "outputs": []
    },
    {
      "cell_type": "code",
      "source": [
        "REGION = \"us-central1\"\n",
        "ENDPOINT = \"{}-aiplatform.googleapis.com\".format(REGION)\n",
        "\n",
        "PROJECT_ID = \"sascha-playground-doit\"\n",
        "PARENT = \"projects/{}/locations/{}\".format(PROJECT_ID, REGION)\n",
        "\n",
        "PROJECT_NUMBER = !gcloud projects list --filter=\"PROJECT_ID:'{PROJECT_ID}'\" --format='value(PROJECT_NUMBER)'\n",
        "PROJECT_NUMBER = PROJECT_NUMBER[0]"
      ],
      "metadata": {
        "id": "lpM4vUMFxYYD"
      },
      "execution_count": null,
      "outputs": []
    },
    {
      "cell_type": "code",
      "source": [
        "PROJECT_NUMBER"
      ],
      "metadata": {
        "id": "i9prNAbpX84Q"
      },
      "execution_count": null,
      "outputs": []
    },
    {
      "cell_type": "markdown",
      "source": [
        "## Copy Embeddings\n",
        "Copy the embeddings to the Google Cloud Storage bucket"
      ],
      "metadata": {
        "id": "Bom1oRYEwYrN"
      }
    },
    {
      "cell_type": "code",
      "source": [
        "! gsutil cp data.json gs://doit-vertex-demo/matching-engine/data/text/data.json"
      ],
      "metadata": {
        "id": "mZtyN_msvHkF"
      },
      "execution_count": null,
      "outputs": []
    },
    {
      "cell_type": "code",
      "source": [],
      "metadata": {
        "id": "yOguoWcIxAyb"
      },
      "execution_count": null,
      "outputs": []
    },
    {
      "cell_type": "markdown",
      "source": [
        "## Create VPC Network"
      ],
      "metadata": {
        "id": "-S3Al5D3Oqja"
      }
    },
    {
      "cell_type": "code",
      "source": [
        "NETWORK_NAME = \"matching-engine-vpc-network\"\n",
        "PEERING_RANGE_NAME = \"matching-engine-range\""
      ],
      "metadata": {
        "id": "71OVDYB6OxG1"
      },
      "execution_count": null,
      "outputs": []
    },
    {
      "cell_type": "code",
      "source": [
        "! gcloud compute networks create {NETWORK_NAME} --bgp-routing-mode=regional"
      ],
      "metadata": {
        "id": "Ia9OXNwhOs6c"
      },
      "execution_count": null,
      "outputs": []
    },
    {
      "cell_type": "code",
      "source": [
        "! gcloud compute firewall-rules create {NETWORK_NAME}-allow-icmp --network {NETWORK_NAME} --priority 65534 --project {PROJECT_ID} --allow icmp\n",
        "! gcloud compute firewall-rules create {NETWORK_NAME}-allow-internal --network {NETWORK_NAME} --priority 65534 --project {PROJECT_ID} --allow all --source-ranges 10.128.0.0/9\n",
        "! gcloud compute firewall-rules create {NETWORK_NAME}-allow-rdp --network {NETWORK_NAME} --priority 65534 --project {PROJECT_ID} --allow tcp:3389\n",
        "! gcloud compute firewall-rules create {NETWORK_NAME}-allow-ssh --network {NETWORK_NAME} --priority 65534 --project {PROJECT_ID} --allow tcp:22\n"
      ],
      "metadata": {
        "id": "tsCsu81HPMcL"
      },
      "execution_count": null,
      "outputs": []
    },
    {
      "cell_type": "code",
      "source": [
        "! gcloud compute addresses create {PEERING_RANGE_NAME} --global --prefix-length=16 --network={NETWORK_NAME} --purpose=VPC_PEERING --project={PROJECT_ID} --description=\"peering range for uCAIP Haystack.\""
      ],
      "metadata": {
        "id": "zDQGUXynP4jc"
      },
      "execution_count": null,
      "outputs": []
    },
    {
      "cell_type": "code",
      "source": [
        "!gcloud services enable servicenetworking.googleapis.com --project=\"sascha-playground-doit\""
      ],
      "metadata": {
        "id": "Fatgj4HNQyAB"
      },
      "execution_count": null,
      "outputs": []
    },
    {
      "cell_type": "markdown",
      "source": [],
      "metadata": {
        "id": "hiA-fEoAS1nc"
      }
    },
    {
      "cell_type": "code",
      "source": [
        "! gcloud services vpc-peerings connect --service=servicenetworking.googleapis.com --network={NETWORK_NAME} --ranges={PEERING_RANGE_NAME}"
      ],
      "metadata": {
        "id": "XNmAooRtQNdo"
      },
      "execution_count": null,
      "outputs": []
    },
    {
      "cell_type": "markdown",
      "source": [
        "## Create Index"
      ],
      "metadata": {
        "id": "7htUWQmbxH5f"
      }
    },
    {
      "cell_type": "code",
      "source": [
        "index = aiplatform.MatchingEngineIndex.create_tree_ah_index(\n",
        "    display_name=\"similar_text\",\n",
        "    contents_delta_uri=\"gs://doit-vertex-demo/matching-engine/data/text/\",\n",
        "    dimensions=768,\n",
        "    approximate_neighbors_count=150,\n",
        "    distance_measure_type=\"DOT_PRODUCT_DISTANCE\",\n",
        "    leaf_node_embedding_count=500,\n",
        "    leaf_nodes_to_search_percent=7,\n",
        "    description=\"Glove 100 ANN index\",\n",
        "    labels={\"label_name\": \"label_value\"},\n",
        ")"
      ],
      "metadata": {
        "id": "iLrkeUytGQLH"
      },
      "execution_count": null,
      "outputs": []
    },
    {
      "cell_type": "code",
      "source": [
        "# manually reference the index if it is already existing\n",
        "INDEX_RESOURCE_NAME = \"projects/234439745674/locations/us-central1/indexes/5968580124126216192\"\n",
        "index = aiplatform.MatchingEngineIndex(index_name=INDEX_RESOURCE_NAME)"
      ],
      "metadata": {
        "id": "Ht_TRCpsGpeB"
      },
      "execution_count": null,
      "outputs": []
    },
    {
      "cell_type": "markdown",
      "source": [
        "## List Index"
      ],
      "metadata": {
        "id": "ePr43o9FJMJR"
      }
    },
    {
      "cell_type": "code",
      "source": [
        "!gcloud ai indexes list \\\n",
        "  --project=\"sascha-playground-doit\" \\\n",
        "  --region=\"us-central1\""
      ],
      "metadata": {
        "id": "Eun3J7yY5B4M"
      },
      "execution_count": null,
      "outputs": []
    },
    {
      "cell_type": "markdown",
      "source": [
        "## Create Index Endpoint"
      ],
      "metadata": {
        "id": "zaI1hX9lTVPZ"
      }
    },
    {
      "cell_type": "code",
      "source": [
        "VPC_NETWORK_NAME = \"projects/{}/global/networks/{}\".format(PROJECT_NUMBER, NETWORK_NAME)\n",
        "VPC_NETWORK_NAME"
      ],
      "metadata": {
        "id": "C0DdH2o_T2NT"
      },
      "execution_count": null,
      "outputs": []
    },
    {
      "cell_type": "code",
      "source": [
        "index_endpoint = aiplatform.MatchingEngineIndexEndpoint.create(\n",
        "    display_name=\"index_endpoint_for_demo\",\n",
        "    description=\"index endpoint description\",\n",
        "    network=VPC_NETWORK_NAME,\n",
        ")"
      ],
      "metadata": {
        "id": "3Xjgt-ekIVm2"
      },
      "execution_count": null,
      "outputs": []
    },
    {
      "cell_type": "code",
      "source": [
        "#gcloud\n",
        "\n",
        "!gcloud ai index-endpoints create \\\n",
        "  --display-name=\"index_endpoint_for_demo\" \\\n",
        "  --network=\"projects/234439745674/global/networks/matching-engine-vpc-network\" \\\n",
        "  --project=\"sascha-playground-doit\" \\\n",
        "  --region=\"us-central1\""
      ],
      "metadata": {
        "id": "DgTq8SotJTIC"
      },
      "execution_count": null,
      "outputs": []
    },
    {
      "cell_type": "markdown",
      "source": [
        "## List Endpoints"
      ],
      "metadata": {
        "id": "IQsX7opTJ0iL"
      }
    },
    {
      "cell_type": "code",
      "source": [
        "!gcloud ai index-endpoints list --project=\"sascha-playground-doit\" --region=\"us-central1\""
      ],
      "metadata": {
        "id": "ly4CUiTKJ3QQ"
      },
      "execution_count": null,
      "outputs": []
    },
    {
      "cell_type": "markdown",
      "source": [
        "## Deploy Index\n",
        "\n",
        "takes at least 40 min even for the smallest index"
      ],
      "metadata": {
        "id": "MjKcOoFAN9kT"
      }
    },
    {
      "cell_type": "code",
      "source": [
        "deployed_index = index_endpoint.deploy_index(\n",
        "    index=index, deployed_index_id=\"similar_text_index_deployed\"\n",
        ")"
      ],
      "metadata": {
        "id": "6EBmyiflJrBg"
      },
      "execution_count": null,
      "outputs": []
    },
    {
      "cell_type": "code",
      "source": [
        "deployed_index.deployed_indexes"
      ],
      "metadata": {
        "id": "UMnyNMP9J3G_"
      },
      "execution_count": null,
      "outputs": []
    },
    {
      "cell_type": "code",
      "source": [
        "!gcloud ai index-endpoints deploy-index \"4732315638133948416\" \\\n",
        "  --deployed-index-id=\"deployed-index-text\" \\\n",
        "  --display-name=\"display name\" \\\n",
        "  --index=\"8291848193616904192\" \\\n",
        "  --project=\"sascha-playground-doit\" \\\n",
        "  --region=\"us-central1\""
      ],
      "metadata": {
        "id": "FqS4nZNUNDom"
      },
      "execution_count": null,
      "outputs": []
    },
    {
      "cell_type": "code",
      "source": [
        "!gcloud ai operations describe \"5345555672861769728\" \\\n",
        "  --index-endpoint=\"4732315638133948416\" \\\n",
        "  --project=\"sascha-playground-doit\" \\\n",
        "  --region=\"us-central1\""
      ],
      "metadata": {
        "id": "jcQVwhNONwTM"
      },
      "execution_count": null,
      "outputs": []
    },
    {
      "cell_type": "code",
      "source": [
        "!gcloud ai index-endpoints describe 8204054389162246144 \\\n",
        "  --project=\"sascha-playground-doit\" \\\n",
        "  --region=\"us-central1\""
      ],
      "metadata": {
        "id": "19RSzjaUPd7Y"
      },
      "execution_count": null,
      "outputs": []
    },
    {
      "cell_type": "code",
      "source": [
        "!gcloud ai index-endpoints list --project=\"sascha-playground-doit\" --region=\"us-central1\""
      ],
      "metadata": {
        "id": "L8F-0PqDPPg_"
      },
      "execution_count": null,
      "outputs": []
    },
    {
      "cell_type": "markdown",
      "source": [
        "## Query using the SDK (recommended approach)\n",
        "\n",
        "(IMPORTANT: only works withing the same VPC network. Will not work on your local environment or notebooks outside of the network)"
      ],
      "metadata": {
        "id": "2Uk5DNkR2Nxn"
      }
    },
    {
      "cell_type": "code",
      "source": [
        "sentence = ['The cat likes to sleep in the sun']\n",
        "embedding = model.encode(sentence)\n",
        "print(embedding[0])"
      ],
      "metadata": {
        "id": "zbJBMZ4_DpTN"
      },
      "execution_count": null,
      "outputs": []
    },
    {
      "cell_type": "code",
      "source": [
        "response = index_endpoint.match(\n",
        "    deployed_index_id=\"similar_text_index_deployed\",\n",
        "    queries=[embedding[0]],\n",
        "    num_neighbors=5\n",
        ")\n",
        "\n",
        "response"
      ],
      "metadata": {
        "id": "WIGoMs4x2QH-"
      },
      "execution_count": null,
      "outputs": []
    },
    {
      "cell_type": "markdown",
      "source": [
        "## Query with gRPC and proto files (deprecated don't use this anymore rather use the SDK)\n",
        "\n",
        "(IMPORTANT: only works withing the same VPC network. Will not work on your local environment or notebooks outside of the network)"
      ],
      "metadata": {
        "id": "tZlFRHNhT-0l"
      }
    },
    {
      "cell_type": "code",
      "source": [
        "!pip install grpcio-tools"
      ],
      "metadata": {
        "id": "xGv5x92JUAfX"
      },
      "execution_count": null,
      "outputs": []
    },
    {
      "cell_type": "markdown",
      "source": [
        "Create the vector used to query against the matching engine"
      ],
      "metadata": {
        "id": "zNUqrRDzWdgq"
      }
    },
    {
      "cell_type": "code",
      "source": [
        "sentence = ['The cat likes to sleep in the sun']\n",
        "embedding = model.encode(sentence)\n",
        "print(embedding[0])"
      ],
      "metadata": {
        "id": "OmsWceh3WcmU"
      },
      "execution_count": null,
      "outputs": []
    },
    {
      "cell_type": "code",
      "source": [
        "!git clone https://github.com/googleapis/googleapis.git"
      ],
      "metadata": {
        "id": "UgXBfFbcYj_P"
      },
      "execution_count": null,
      "outputs": []
    },
    {
      "cell_type": "code",
      "source": [
        "%%writefile match_service.proto\n",
        "\n",
        "syntax = \"proto3\";\n",
        "\n",
        "package google.cloud.aiplatform.container.v1beta1;\n",
        "\n",
        "import \"google/rpc/status.proto\";\n",
        "\n",
        "// MatchService is a Google managed service for efficient vector similarity\n",
        "// search at scale.\n",
        "service MatchService {\n",
        "  // Returns the nearest neighbors for the query. If it is a sharded\n",
        "  // deployment, calls the other shards and aggregates the responses.\n",
        "  rpc Match(MatchRequest) returns (MatchResponse) {}\n",
        "\n",
        "  // Returns the nearest neighbors for batch queries. If it is a sharded\n",
        "  // deployment, calls the other shards and aggregates the responses.\n",
        "  rpc BatchMatch(BatchMatchRequest) returns (BatchMatchResponse) {}\n",
        "}\n",
        "\n",
        "// Parameters for a match query.\n",
        "message MatchRequest {\n",
        "  // The ID of the DeploydIndex that will serve the request.\n",
        "  // This MatchRequest is sent to a specific IndexEndpoint of the Control API,\n",
        "  // as per the IndexEndpoint.network. That IndexEndpoint also has\n",
        "  // IndexEndpoint.deployed_indexes, and each such index has an\n",
        "  // DeployedIndex.id field.\n",
        "  // The value of the field below must equal one of the DeployedIndex.id\n",
        "  // fields of the IndexEndpoint that is being called for this request.\n",
        "  string deployed_index_id = 1;\n",
        "\n",
        "  // The embedding values.\n",
        "  repeated float float_val = 2;\n",
        "\n",
        "  // The number of nearest neighbors to be retrieved from database for\n",
        "  // each query. If not set, will use the default from\n",
        "  // the service configuration.\n",
        "  int32 num_neighbors = 3;\n",
        "\n",
        "  // The list of restricts.\n",
        "  repeated Namespace restricts = 4;\n",
        "\n",
        "  // Crowding is a constraint on a neighbor list produced by nearest neighbor\n",
        "  // search requiring that no more than some value k' of the k neighbors\n",
        "  // returned have the same value of crowding_attribute.\n",
        "  // It's used for improving result diversity.\n",
        "  // This field is the maximum number of matches with the same crowding tag.\n",
        "  int32 per_crowding_attribute_num_neighbors = 5;\n",
        "\n",
        "  // The number of neighbors to find via approximate search before\n",
        "  // exact reordering is performed. If not set, the default value from scam\n",
        "  // config is used; if set, this value must be > 0.\n",
        "  int32 approx_num_neighbors = 6;\n",
        "\n",
        "  // The fraction of the number of leaves to search, set at query time allows\n",
        "  // user to tune search performance. This value increase result in both search\n",
        "  // accuracy and latency increase. The value should be between 0.0 and 1.0. If\n",
        "  // not set or set to 0.0, query uses the default value specified in\n",
        "  // NearestNeighborSearchConfig.TreeAHConfig.leaf_nodes_to_search_percent.\n",
        "  int32 leaf_nodes_to_search_percent_override = 7;\n",
        "}\n",
        "\n",
        "// Response of a match query.\n",
        "message MatchResponse {\n",
        "  message Neighbor {\n",
        "    // The ids of the matches.\n",
        "    string id = 1;\n",
        "\n",
        "    // The distances of the matches.\n",
        "    double distance = 2;\n",
        "  }\n",
        "  // All its neighbors.\n",
        "  repeated Neighbor neighbor = 1;\n",
        "}\n",
        "\n",
        "// Parameters for a batch match query.\n",
        "message BatchMatchRequest {\n",
        "  // Batched requests against one index.\n",
        "  message BatchMatchRequestPerIndex {\n",
        "    // The ID of the DeploydIndex that will serve the request.\n",
        "    string deployed_index_id = 1;\n",
        "\n",
        "    // The requests against the index identified by the above deployed_index_id.\n",
        "    repeated MatchRequest requests = 2;\n",
        "\n",
        "    // Selects the optimal batch size to use for low-level batching. Queries\n",
        "    // within each low level batch are executed sequentially while low level\n",
        "    // batches are executed in parallel.\n",
        "    // This field is optional, defaults to 0 if not set. A non-positive number\n",
        "    // disables low level batching, i.e. all queries are executed sequentially.\n",
        "    int32 low_level_batch_size = 3;\n",
        "  }\n",
        "\n",
        "  // The batch requests grouped by indexes.\n",
        "  repeated BatchMatchRequestPerIndex requests = 1;\n",
        "}\n",
        "\n",
        "// Response of a batch match query.\n",
        "message BatchMatchResponse {\n",
        "  // Batched responses for one index.\n",
        "  message BatchMatchResponsePerIndex {\n",
        "    // The ID of the DeployedIndex that produced the responses.\n",
        "    string deployed_index_id = 1;\n",
        "\n",
        "    // The match responses produced by the index identified by the above\n",
        "    // deployed_index_id. This field is set only when the query against that\n",
        "    // index succeed.\n",
        "    repeated MatchResponse responses = 2;\n",
        "\n",
        "    // The status of response for the batch query identified by the above\n",
        "    // deployed_index_id.\n",
        "    google.rpc.Status status = 3;\n",
        "  }\n",
        "\n",
        "  // The batched responses grouped by indexes.\n",
        "  repeated BatchMatchResponsePerIndex responses = 1;\n",
        "}\n",
        "\n",
        "// Namespace specifies the rules for determining the datapoints that are\n",
        "// eligible for each matching query, overall query is an AND across namespaces.\n",
        "message Namespace {\n",
        "  // The string name of the namespace that this proto is specifying,\n",
        "  // such as \"color\", \"shape\", \"geo\", or \"tags\".\n",
        "  string name = 1;\n",
        "\n",
        "  // The allowed tokens in the namespace.\n",
        "  repeated string allow_tokens = 2;\n",
        "\n",
        "  // The denied tokens in the namespace.\n",
        "  // The denied tokens have exactly the same format as the token fields, but\n",
        "  // represents a negation. When a token is denied, then matches will be\n",
        "  // excluded whenever the other datapoint has that token.\n",
        "  //\n",
        "  // For example, if a query specifies {color: red, blue, !purple}, then that\n",
        "  // query will match datapoints that are red or blue, but if those points are\n",
        "  // also purple, then they will be excluded even if they are red/blue.\n",
        "  repeated string deny_tokens = 3;\n",
        "}"
      ],
      "metadata": {
        "id": "X5ivygnkXDvv"
      },
      "execution_count": null,
      "outputs": []
    },
    {
      "cell_type": "code",
      "source": [
        "! python -m grpc_tools.protoc -I=. --proto_path=googleapis --python_out=. --grpc_python_out=. match_service.proto"
      ],
      "metadata": {
        "id": "mPxxNM8SYc3_"
      },
      "execution_count": null,
      "outputs": []
    },
    {
      "cell_type": "code",
      "source": [
        "DEPLOYED_INDEX_SERVER_IP = \"10.78.0.5\"\n",
        "\n",
        "import grpc\n",
        "import match_service_pb2\n",
        "import match_service_pb2_grpc\n",
        "\n",
        "channel = grpc.insecure_channel(\"{}:10000\".format(DEPLOYED_INDEX_SERVER_IP))\n",
        "stub = match_service_pb2_grpc.MatchServiceStub(channel)"
      ],
      "metadata": {
        "id": "1urwW_CcZ-vc"
      },
      "execution_count": null,
      "outputs": []
    },
    {
      "cell_type": "code",
      "source": [
        "request = match_service_pb2.MatchRequest()\n",
        "request.deployed_index_id = DEPLOYED_INDEX_ID\n",
        "for val in embedding[0]:\n",
        "    request.float_val.append(val)\n",
        "\n",
        "response = stub.Match(request)\n",
        "response"
      ],
      "metadata": {
        "id": "42XBgT-GaSdA"
      },
      "execution_count": null,
      "outputs": []
    },
    {
      "cell_type": "markdown",
      "source": [
        "## Update Index"
      ],
      "metadata": {
        "id": "kfR4alKjesKt"
      }
    },
    {
      "cell_type": "code",
      "source": [
        "%%writefile metadata.json\n",
        "{\n",
        "  \"contentsDeltaUri\": \"gs://doit-vertex-demo/matching-engine/data/text/\",\n",
        "  \"isCompleteOverwrite\": True,\n",
        "  \"config\": {\n",
        "    \"dimensions\": 100,\n",
        "    \"approximateNeighborsCount\": 150,\n",
        "    \"distanceMeasureType\": \"DOT_PRODUCT_DISTANCE\",\n",
        "    \"algorithm_config\": {\n",
        "      \"treeAhConfig\": {\n",
        "      }\n",
        "    }\n",
        "  }\n",
        "}"
      ],
      "metadata": {
        "id": "TiZMARDzfLKw"
      },
      "execution_count": null,
      "outputs": []
    },
    {
      "cell_type": "code",
      "source": [
        "!gcloud ai indexes update 8291848193616904192 \\\n",
        "  --metadata-file=\"./metadata.json\" \\\n",
        "  --project=\"sascha-playground-doit\" \\\n",
        "  --region=\"us-central1\""
      ],
      "metadata": {
        "id": "1Qz7KyKLeuAx"
      },
      "execution_count": null,
      "outputs": []
    },
    {
      "cell_type": "code",
      "source": [
        "!gcloud ai operations describe 3500135356802531328 \\\n",
        "  --index=8291848193616904192 \\\n",
        "  --project=\"sascha-playground-doit\" \\\n",
        "  --region=\"us-central1\""
      ],
      "metadata": {
        "id": "uX0BiSE6gQpL"
      },
      "execution_count": null,
      "outputs": []
    },
    {
      "cell_type": "markdown",
      "source": [
        "## Change scaling / mutate"
      ],
      "metadata": {
        "id": "flds2Mij_DPV"
      }
    },
    {
      "cell_type": "code",
      "source": [
        "!gcloud ai index-endpoints mutate-deployed-index 4732315638133948416 \\\n",
        "  --project=\"sascha-playground-doit\" \\\n",
        "  --region=\"us-central1\" \\\n",
        "  --deployed-index-id=\"deployed-index-text\" \\\n",
        "  --min-replica-count=1 \\\n",
        "  --max-replica-count=1"
      ],
      "metadata": {
        "id": "ehb7FjKv_FnD"
      },
      "execution_count": null,
      "outputs": []
    },
    {
      "cell_type": "markdown",
      "source": [
        "## Undeploy Index\n",
        "\n",
        "* projects/234439745674/locations/us-central1/indexEndpoints/7097409129945235456\n",
        "\n",
        "* projects/234439745674/locations/us-central1/indexes/2682051907773530112\""
      ],
      "metadata": {
        "id": "MIRFGH94V9K7"
      }
    },
    {
      "cell_type": "code",
      "source": [
        "!gcloud ai index-endpoints list --project=\"sascha-playground-doit\" --region=\"us-central1\""
      ],
      "metadata": {
        "id": "qj9WQKrUYD-F",
        "colab": {
          "base_uri": "https://localhost:8080/"
        },
        "outputId": "fc7f5f9c-49c6-44f8-f017-b4c49fd75739"
      },
      "execution_count": null,
      "outputs": [
        {
          "output_type": "stream",
          "name": "stdout",
          "text": [
            "Using endpoint [https://us-central1-aiplatform.googleapis.com/]\n",
            "---\n",
            "createTime: '2023-06-22T12:43:54.003997Z'\n",
            "description: palm-langchain-document-answering\n",
            "displayName: palm-langchain-document-answering\n",
            "etag: AMEw9yPLFc-k1dHX22PtbUjfbIX9uA59536l9mLnGnhXdgYUJlrOtjfPGOgFo3PsnPHj\n",
            "name: projects/234439745674/locations/us-central1/indexEndpoints/4797978472544731136\n",
            "network: projects/234439745674/global/networks/matching-engine-vpc-network\n",
            "updateTime: '2023-06-22T12:43:54.681063Z'\n",
            "---\n",
            "createTime: '2023-06-09T15:11:55.283483Z'\n",
            "description: catawiki-langchain-document-answering\n",
            "displayName: catawiki-langchain-document-answering\n",
            "etag: AMEw9yOCNsxMG3j-fS-0gRgDBKVtsmuXBzBjyM3jtRtS1AOMJXvm7OozriCVtAoIyxE=\n",
            "name: projects/234439745674/locations/us-central1/indexEndpoints/4187459248059318272\n",
            "network: projects/234439745674/global/networks/matching-engine-vpc-network\n",
            "updateTime: '2023-06-09T15:11:56.042078Z'\n",
            "---\n",
            "createTime: '2023-06-08T18:12:58.604542Z'\n",
            "description: image-similarity-vpc\n",
            "displayName: image-similarity-vpc\n",
            "etag: AMEw9yM2amh9Jk6eDw2L83brUg8NV2_KeoziKunQ616xVTE_Wo9mxakE22ZhG66ctQb_\n",
            "name: projects/234439745674/locations/us-central1/indexEndpoints/2199120012575244288\n",
            "network: projects/234439745674/global/networks/matching-engine-vpc-network\n",
            "updateTime: '2023-06-08T18:12:59.356654Z'\n",
            "---\n",
            "createTime: '2023-06-07T14:07:12.256941Z'\n",
            "description: image-similarity\n",
            "displayName: image-similarity\n",
            "etag: AMEw9yM5RTT9sZ1QIQYbfswlfZ-mPzDM_tDOn_T1YqZuUBU-FRJ0E1WvxRN4S0cOMlP4\n",
            "name: projects/234439745674/locations/us-central1/indexEndpoints/7203322886025641984\n",
            "publicEndpointDomainName: 1746094999.us-central1-234439745674.vdb.vertexai.goog\n",
            "updateTime: '2023-06-07T14:07:12.935544Z'\n",
            "---\n",
            "createTime: '2023-06-06T07:06:05.190362Z'\n",
            "description: palm-langchain-document-answering\n",
            "displayName: palm-langchain-document-answering\n",
            "etag: AMEw9yNUXlQl09Rb4H91RA4uKp1eBi70myUV4j5jOgNWplB5jqIim8MI6C69mG67aSYa\n",
            "name: projects/234439745674/locations/us-central1/indexEndpoints/1017628797832265728\n",
            "publicEndpointDomainName: 2034921986.us-central1-234439745674.vdb.vertexai.goog\n",
            "updateTime: '2023-06-06T07:06:06.923706Z'\n",
            "---\n",
            "createTime: '2023-02-17T16:32:12.159089Z'\n",
            "deployedIndexes:\n",
            "- automaticResources:\n",
            "    maxReplicaCount: 2\n",
            "    minReplicaCount: 2\n",
            "  createTime: '2023-02-18T12:15:51.103412Z'\n",
            "  deploymentGroup: default\n",
            "  displayName: ticket_similarity_deployed_v2\n",
            "  id: ticket_similarity_deployed_v2\n",
            "  index: projects/234439745674/locations/us-central1/indexes/8673273175338909696\n",
            "  indexSyncTime: '2023-06-23T09:52:53.346840Z'\n",
            "  privateEndpoints:\n",
            "    matchGrpcAddress: 10.78.0.5\n",
            "displayName: ticket_similarity_endpoint\n",
            "etag: AMEw9yMP5pC1pzANRXonSRRLQNIQAI5JoyllnXBgGTA61GJF4Mmr19P30h5Mfy_TLJq3\n",
            "name: projects/234439745674/locations/us-central1/indexEndpoints/4299714987208736768\n",
            "network: projects/234439745674/global/networks/matching-engine-vpc-network\n",
            "updateTime: '2023-02-17T16:32:12.701044Z'\n"
          ]
        }
      ]
    },
    {
      "cell_type": "code",
      "source": [
        "!gcloud ai index-endpoints undeploy-index \"4797978472544731136\" \\\n",
        "  --deployed-index-id=\"palm_2_langchain_document_answering\" \\\n",
        "  --project=\"sascha-playground-doit\" \\\n",
        "  --region=\"us-central1\""
      ],
      "metadata": {
        "id": "iziloyP_UMxe",
        "colab": {
          "base_uri": "https://localhost:8080/"
        },
        "outputId": "b1753c19-1607-40f7-f99c-e3848a3b9f0d"
      },
      "execution_count": null,
      "outputs": [
        {
          "output_type": "stream",
          "name": "stdout",
          "text": [
            "Using endpoint [https://us-central1-aiplatform.googleapis.com/]\n",
            "'@type': type.googleapis.com/google.cloud.aiplatform.v1.UndeployIndexResponse\n"
          ]
        }
      ]
    },
    {
      "cell_type": "code",
      "source": [
        "!gcloud ai indexes list \\\n",
        "  --project=\"sascha-playground-doit\" \\\n",
        "  --region=\"us-central1\""
      ],
      "metadata": {
        "id": "gUzEv95xZ-cJ"
      },
      "execution_count": null,
      "outputs": []
    },
    {
      "cell_type": "code",
      "source": [
        "!gcloud -q ai indexes delete \"projects/234439745674/locations/us-central1/indexes/3621826486266232832\" \\\n",
        "  --project=\"sascha-playground-doit\" \\\n",
        "  --region=\"us-central1\""
      ],
      "metadata": {
        "id": "IpLzoMmPXK-t"
      },
      "execution_count": null,
      "outputs": []
    },
    {
      "cell_type": "code",
      "source": [
        "!gcloud ai indexes list \\\n",
        "  --project=\"sascha-playground-doit\" \\\n",
        "  --region=\"us-central1\""
      ],
      "metadata": {
        "id": "1HyyM_0Ned8z"
      },
      "execution_count": null,
      "outputs": []
    },
    {
      "cell_type": "code",
      "source": [
        "!gcloud ai index-endpoints delete 2514503927886512128 \\\n",
        "  --project=\"sascha-playground-doit\" \\\n",
        "  --region=\"us-central1\" \\\n",
        "  --quiet"
      ],
      "metadata": {
        "id": "L9uc4AvafCQU"
      },
      "execution_count": null,
      "outputs": []
    }
  ]
}